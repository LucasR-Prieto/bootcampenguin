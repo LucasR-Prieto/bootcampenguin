{
 "cells": [
  {
   "cell_type": "code",
   "execution_count": null,
   "metadata": {},
   "outputs": [],
   "source": []
  },
  {
   "cell_type": "markdown",
   "metadata": {},
   "source": [
    "___"
   ]
  },
  {
   "cell_type": "markdown",
   "metadata": {},
   "source": [
    "# diccionario"
   ]
  },
  {
   "cell_type": "code",
   "execution_count": null,
   "metadata": {},
   "outputs": [],
   "source": []
  },
  {
   "cell_type": "code",
   "execution_count": null,
   "metadata": {},
   "outputs": [],
   "source": []
  },
  {
   "cell_type": "code",
   "execution_count": null,
   "metadata": {},
   "outputs": [],
   "source": []
  },
  {
   "cell_type": "code",
   "execution_count": 19,
   "metadata": {},
   "outputs": [
    {
     "name": "stdout",
     "output_type": "stream",
     "text": [
      "{'nombre': 'lucas'}\n",
      "{'nombre': 'lucas', 'hobbie': 'dormir'}\n",
      "{'nombre': 'lucas', 'hobbie': 'dormir', '': 'asd'}\n",
      "{'nombre': 'lucas', 'hobbie': 'dormir', '': 'asd', 'sd': 'asd'}\n",
      "('hola mi nombre es ', {'lucas'}, 'y m hobbie es ', {'dormir'})\n"
     ]
    }
   ],
   "source": [
    "mi_diccionario = {}\n",
    "diccionario2  = {}\n",
    "\n",
    "\"\"\"\n",
    "for c in range(1) : \n",
    "    nombre  = input(\"introduce nombre \")\n",
    "    apellido = input(\"introduce apellido \")\n",
    "    email = input(\"introduce email \")\n",
    "    hobbie= input(\"introduce un hobbie\")\n",
    "    mi_diccionario[\"nombre\"]  = nombre\n",
    "    mi_diccionario[\"apellido\"]  = apellido\n",
    "    mi_diccionario[\"email\" ]  = email\n",
    "    print(\"datos guardados \", mi_diccionario)\n",
    "\"\"\"\n",
    "n = 0 \n",
    "while n != 4 :\n",
    "    clave  =input(\"introduce una clave \")\n",
    "    dato = input(\"introduce un dato\")\n",
    "    diccionario2[clave]= dato\n",
    "    print (diccionario2)\n",
    "    n = n+1\n",
    "    \n",
    "mi_frase = f\"hola mi nombre es \",{diccionario2['nombre']} ,\"y m hobbie es \", {diccionario2['hobbie'] }\n",
    "print(mi_frase)\n"
   ]
  },
  {
   "cell_type": "code",
   "execution_count": 8,
   "metadata": {},
   "outputs": [
    {
     "name": "stdout",
     "output_type": "stream",
     "text": [
      "https://www.omdbapi.com/?apikey=62ead433&t=Avatar\n",
      "<Response [200]>\n",
      "Sam Worthington, Zoe Saldana, Sigourney Weaver\n",
      "https://m.media-amazon.com/images/M/MV5BZDA0OGQxNTItMDZkMC00N2UyLTg3MzMtYTJmNjg3Nzk5MzRiXkEyXkFqcGdeQXVyMjUzOTY1NTc@._V1_SX300.jpg\n",
      "$760,507,625\n",
      "18 Dec 2009\n",
      "760,507,625\n",
      "---------------------------\n",
      "5224687383750\n",
      "el monto es guaranies es 5224687383750 de la pelicula Avatar\n"
     ]
    }
   ],
   "source": [
    "import requests\n",
    "from pprint import pprint\n",
    "APPI_KEY =\"62ead433\"\n",
    "# CRRAMOS PARAMETROS \n",
    "Titulo =\"Avatar\"\n",
    "# SE CREA UNA URL DE CONSULTA \n",
    "URL = \"https://www.omdbapi.com/?apikey=\"+APPI_KEY+\"&t=\"+Titulo\n",
    "print(URL)\n",
    "\n",
    "\n",
    "datos_de_pelicula = requests.get(URL)\n",
    "pprint(datos_de_pelicula)\n",
    "datos_de_pelicula = datos_de_pelicula.json()\n",
    "#pprint(datos_de_pelicula)\n",
    "print(datos_de_pelicula[\"Actors\"])\n",
    "print(datos_de_pelicula[\"Poster\"])\n",
    "print(datos_de_pelicula[\"BoxOffice\"])\n",
    "print(datos_de_pelicula[\"Released\"])\n",
    "\n",
    "recaudacion = datos_de_pelicula[\"BoxOffice\"]\n",
    "\n",
    "\n",
    "# forma 1 limpiar el dolar\n",
    "quitar_exedente = recaudacion[1:]\n",
    "print(quitar_exedente)\n",
    "\n",
    "# forma 2 : .replace (\"caracter a remplazar , \"remplazo)\n",
    "\n",
    "quitar_caracter = recaudacion.replace(\"$\",\"\").replace(\",\",\"\")\n",
    "\n",
    "monto_recaudado_en_usd = int(quitar_caracter)\n",
    "\n",
    "\n",
    "print(\"---------------------------\")\n",
    "llamada_a_datos = \"https://dolar.melizeche.com/api/1.0/\"\n",
    "obtencion_de_datos = requests.get(llamada_a_datos)\n",
    "datos_dolar_py = obtencion_de_datos.json()\n",
    "\n",
    "cambios_chaco_venta = int(datos_dolar_py[\"dolarpy\"][\"cambioschaco\"][\"venta\"])\n",
    "cambio_en_guaranies = monto_recaudado_en_usd * cambios_chaco_venta\n",
    "print(cambio_en_guaranies)\n",
    "\n",
    "resultado =f\"el monto es guaranies es {cambio_en_guaranies} de la pelicula {datos_de_pelicula['Title']}\"\n",
    "print(resultado)"
   ]
  }
 ],
 "metadata": {
  "interpreter": {
   "hash": "916dbcbb3f70747c44a77c7bcd40155683ae19c65e1c03b4aa3499c5328201f1"
  },
  "kernelspec": {
   "display_name": "Python 3.8.10 64-bit",
   "language": "python",
   "name": "python3"
  },
  "language_info": {
   "codemirror_mode": {
    "name": "ipython",
    "version": 3
   },
   "file_extension": ".py",
   "mimetype": "text/x-python",
   "name": "python",
   "nbconvert_exporter": "python",
   "pygments_lexer": "ipython3",
   "version": "3.8.10"
  },
  "orig_nbformat": 4
 },
 "nbformat": 4,
 "nbformat_minor": 2
}
