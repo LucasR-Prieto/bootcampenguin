{
 "cells": [
  {
   "cell_type": "code",
   "execution_count": null,
   "metadata": {},
   "outputs": [],
   "source": []
  },
  {
   "cell_type": "code",
   "execution_count": 20,
   "metadata": {},
   "outputs": [
    {
     "ename": "KeyboardInterrupt",
     "evalue": "",
     "output_type": "error",
     "traceback": [
      "\u001b[0;31m---------------------------------------------------------------------------\u001b[0m",
      "\u001b[0;31mKeyboardInterrupt\u001b[0m                         Traceback (most recent call last)",
      "\u001b[1;32m/home/labdoo/bootcamp/dia1/dia3.ipynb Cell 2'\u001b[0m in \u001b[0;36m<cell line: 8>\u001b[0;34m()\u001b[0m\n\u001b[1;32m      <a href='vscode-notebook-cell:/home/labdoo/bootcamp/dia1/dia3.ipynb#ch0000000?line=4'>5</a>\u001b[0m comparar \u001b[39m=\u001b[39m \u001b[39mNone\u001b[39;00m\n\u001b[1;32m      <a href='vscode-notebook-cell:/home/labdoo/bootcamp/dia1/dia3.ipynb#ch0000000?line=6'>7</a>\u001b[0m \u001b[39mwhile\u001b[39;00m \u001b[39mTrue\u001b[39;00m:\n\u001b[0;32m----> <a href='vscode-notebook-cell:/home/labdoo/bootcamp/dia1/dia3.ipynb#ch0000000?line=7'>8</a>\u001b[0m     \u001b[39mif\u001b[39;00m palabra_buscada \u001b[39m==\u001b[39m palabra_ingresada :\n\u001b[1;32m      <a href='vscode-notebook-cell:/home/labdoo/bootcamp/dia1/dia3.ipynb#ch0000000?line=8'>9</a>\u001b[0m         \u001b[39mbreak\u001b[39;00m\n\u001b[1;32m     <a href='vscode-notebook-cell:/home/labdoo/bootcamp/dia1/dia3.ipynb#ch0000000?line=9'>10</a>\u001b[0m \u001b[39mprint\u001b[39m(\u001b[39m\"\u001b[39m\u001b[39mganaste\u001b[39m\u001b[39m\"\u001b[39m)\n",
      "\u001b[0;31mKeyboardInterrupt\u001b[0m: "
     ]
    }
   ],
   "source": [
    "\n",
    "\n",
    "\n",
    "\n",
    "\n"
   ]
  },
  {
   "cell_type": "markdown",
   "metadata": {},
   "source": [
    "---"
   ]
  },
  {
   "cell_type": "code",
   "execution_count": null,
   "metadata": {},
   "outputs": [],
   "source": [
    "palabra = \"calor \"\n",
    "letra1 = \"a\"\n",
    "letra2 = \"r\""
   ]
  },
  {
   "cell_type": "markdown",
   "metadata": {},
   "source": []
  },
  {
   "cell_type": "markdown",
   "metadata": {},
   "source": [
    "### tipos de datos "
   ]
  },
  {
   "cell_type": "code",
   "execution_count": null,
   "metadata": {},
   "outputs": [],
   "source": [
    "soleserde = False\n",
    "solesamarillo = True\n",
    "\n",
    "cantidaddecarateres = 5 # int \n",
    "numeros = [1,2,3,4,5,6,]"
   ]
  },
  {
   "cell_type": "markdown",
   "metadata": {},
   "source": [
    "----\n",
    "concatenar"
   ]
  },
  {
   "cell_type": "code",
   "execution_count": null,
   "metadata": {},
   "outputs": [],
   "source": [
    "mensaje1 = \" la palabra ingresada es \"+ palabra\n",
    "print (mensaje1)\n",
    "\n"
   ]
  },
  {
   "cell_type": "markdown",
   "metadata": {},
   "source": [
    "## operadores logicos "
   ]
  },
  {
   "cell_type": "code",
   "execution_count": 31,
   "metadata": {},
   "outputs": [
    {
     "ename": "NameError",
     "evalue": "name 'letra2' is not defined",
     "output_type": "error",
     "traceback": [
      "\u001b[0;31m---------------------------------------------------------------------------\u001b[0m",
      "\u001b[0;31mNameError\u001b[0m                                 Traceback (most recent call last)",
      "\u001b[1;32m/home/labdoo/bootcamp/dia1/dia3.ipynb Cell 11'\u001b[0m in \u001b[0;36m<cell line: 2>\u001b[0;34m()\u001b[0m\n\u001b[1;32m      <a href='vscode-notebook-cell:/home/labdoo/bootcamp/dia1/dia3.ipynb#ch0000010?line=0'>1</a>\u001b[0m \u001b[39m# == , != ,> ,< \u001b[39;00m\n\u001b[0;32m----> <a href='vscode-notebook-cell:/home/labdoo/bootcamp/dia1/dia3.ipynb#ch0000010?line=1'>2</a>\u001b[0m letras_son_iguales \u001b[39m=\u001b[39m letra1 \u001b[39m=\u001b[39m letra2 \n\u001b[1;32m      <a href='vscode-notebook-cell:/home/labdoo/bootcamp/dia1/dia3.ipynb#ch0000010?line=2'>3</a>\u001b[0m \u001b[39mprint\u001b[39m (letras_son_iguales)\n",
      "\u001b[0;31mNameError\u001b[0m: name 'letra2' is not defined"
     ]
    }
   ],
   "source": [
    "# == , != ,> ,< \n",
    "letras_son_iguales = letra1 = letra2 \n",
    "print (letras_son_iguales)"
   ]
  },
  {
   "cell_type": "code",
   "execution_count": null,
   "metadata": {},
   "outputs": [],
   "source": [
    "def imprimirsaludo():\n",
    "    print(\"holamundo\")\n",
    "    "
   ]
  },
  {
   "cell_type": "markdown",
   "metadata": {},
   "source": [
    "# wordle\n"
   ]
  },
  {
   "cell_type": "code",
   "execution_count": 33,
   "metadata": {},
   "outputs": [
    {
     "ename": "SyntaxError",
     "evalue": "invalid syntax (80003256.py, line 8)",
     "output_type": "error",
     "traceback": [
      "\u001b[0;36m  Input \u001b[0;32mIn [33]\u001b[0;36m\u001b[0m\n\u001b[0;31m    ver_si_coincide =\u001b[0m\n\u001b[0m                      ^\u001b[0m\n\u001b[0;31mSyntaxError\u001b[0m\u001b[0;31m:\u001b[0m invalid syntax\n"
     ]
    }
   ],
   "source": [
    "palabra_buscada = \"celular\"\n",
    "intentos  = 5 \n",
    "palabra_ingresada = input(\"ingrese la supuesta palabra con 5 letras\")\n",
    "comparar = None\n",
    "\n",
    "for palabra_buscada in palabra_ingresada:\n",
    "    if  palabra_ingresada == palabra_buscada:\n",
    "        ver_si_coincide = \n",
    "\n",
    "def mostrar():\n",
    "    palabra= \"hola soy palabra \"\n",
    "\n",
    "mostrar():  \n",
    "\n",
    "\n"
   ]
  },
  {
   "cell_type": "code",
   "execution_count": 38,
   "metadata": {},
   "outputs": [
    {
     "name": "stdout",
     "output_type": "stream",
     "text": [
      "hola soy palabra \n"
     ]
    }
   ],
   "source": [
    "def mostrar():\n",
    "    palabra = \"hola soy palabra \"\n",
    "    print(palabra)\n",
    "\n",
    "mostrar()\n"
   ]
  },
  {
   "cell_type": "code",
   "execution_count": 40,
   "metadata": {},
   "outputs": [
    {
     "name": "stdout",
     "output_type": "stream",
     "text": [
      "calor\n",
      "cielo\n"
     ]
    }
   ],
   "source": [
    "palabra_de_elempo= \"calor\"\n",
    "print(palabra_de_elempo)\n",
    "\n",
    "def cambiador_de_palabra(nuevapalabra):\n",
    "    palabra_de_elempo = nuevapalabra\n",
    "    print(palabra_de_elempo)\n",
    "\n",
    "cambiador_de_palabra(\"cielo\")"
   ]
  },
  {
   "cell_type": "code",
   "execution_count": 49,
   "metadata": {},
   "outputs": [
    {
     "name": "stdout",
     "output_type": "stream",
     "text": [
      "la letras son iguales \n"
     ]
    }
   ],
   "source": [
    "def verificador_de_letras(a,b):\n",
    "    if a == b :\n",
    "        print(\"la letras son iguales \")\n",
    "    else:\n",
    "        print(\"las letras son diferentes\")\n",
    "\n",
    "verificador_de_letras(\"w\",\"w\")"
   ]
  },
  {
   "cell_type": "markdown",
   "metadata": {},
   "source": [
    "# funciones "
   ]
  },
  {
   "cell_type": "code",
   "execution_count": 51,
   "metadata": {},
   "outputs": [
    {
     "name": "stdout",
     "output_type": "stream",
     "text": [
      "True\n"
     ]
    }
   ],
   "source": [
    "def verificar_si_las_palabras_coinciden(palabra_a_encontrar, palabra_ingresada):\n",
    "    palabra_son_iguales = palabra_a_encontrar == palabra_ingresada\n",
    "    if palabra_son_iguales:\n",
    "        return True\n",
    "    else:\n",
    "        return False\n",
    "    \n",
    "palabras_coinciden =verificar_si_las_palabras_coinciden(\"perro\",\"perro\")\n",
    "print(palabras_coinciden)"
   ]
  },
  {
   "cell_type": "code",
   "execution_count": 68,
   "metadata": {},
   "outputs": [
    {
     "data": {
      "text/plain": [
       "'[a]'"
      ]
     },
     "execution_count": 68,
     "metadata": {},
     "output_type": "execute_result"
    }
   ],
   "source": [
    "# challenge 3 \n",
    "def comprobrar_si_palabra_contiene_letra(letra,palabra):\n",
    "    if letra in palabra :\n",
    "        return \"[\" + letra  +\"]\"\n",
    "    else:\n",
    "        return letra\n",
    "\n",
    "comprobrar_si_palabra_contiene_letra(\"a\",\"hola\")"
   ]
  },
  {
   "cell_type": "code",
   "execution_count": 79,
   "metadata": {},
   "outputs": [
    {
     "data": {
      "text/plain": [
       "True"
      ]
     },
     "execution_count": 79,
     "metadata": {},
     "output_type": "execute_result"
    }
   ],
   "source": [
    "# challenge 3 \n",
    "def cantidad_de_letras(palabra,numero):\n",
    "    if len(palabra) == numero:\n",
    "        return True\n",
    "    else:\n",
    "        return False\n",
    "\n",
    "cantidad_de_letras(\"HOLA\",4)\n",
    "\n"
   ]
  },
  {
   "cell_type": "markdown",
   "metadata": {},
   "source": [
    "funciones buil ind "
   ]
  },
  {
   "cell_type": "code",
   "execution_count": null,
   "metadata": {},
   "outputs": [],
   "source": [
    "palabra_a_encontrar = input(\"inprese una palabra\")\n",
    "print(palabra_a_encontrar)\n"
   ]
  },
  {
   "cell_type": "markdown",
   "metadata": {},
   "source": [
    "# funcion buil in list()"
   ]
  },
  {
   "cell_type": "code",
   "execution_count": 85,
   "metadata": {},
   "outputs": [
    {
     "name": "stdout",
     "output_type": "stream",
     "text": [
      "['c', 'i', 'e', 'l', 'o']\n",
      "['c', 'i', 'r', 'c', 'u', 'l', 'o']\n"
     ]
    }
   ],
   "source": [
    "palabra_a_encontrar = (\"cielo\")\n",
    "palabra_ingresada=(\"circulo\")\n",
    "lista_de_letras_de_palabras_a_encontrar = list(palabra_a_encontrar)\n",
    "print(lista_de_letras_de_palabras_a_encontrar)\n",
    "lista_de_letras_de_palabra_ingresada = list(palabra_ingresada)\n",
    "print(lista_de_letras_de_palabra_ingresada)\n"
   ]
  },
  {
   "cell_type": "code",
   "execution_count": 101,
   "metadata": {},
   "outputs": [
    {
     "name": "stdout",
     "output_type": "stream",
     "text": [
      "[['h', 'o', 'l', 'a']]\n",
      "[['h', 'o', 'l', 'a'], ['c', 'h', 'a', 'u']]\n",
      "[['h', 'o', 'l', 'a'], ['c', 'h', 'a', 'u'], ['d', 'e', 's', 'p', 'u', 'e', 's']]\n"
     ]
    }
   ],
   "source": [
    "# challenge 5\n",
    "rep = 0 \n",
    "lista = []\n",
    "while rep < 3:\n",
    "    palabra5  = list(input(\"ingresa una palabra \")) \n",
    "    lista.append(palabra5)\n",
    "    rep +=1 \n",
    "    print(list(lista))\n",
    "\n",
    "    \n"
   ]
  },
  {
   "cell_type": "markdown",
   "metadata": {},
   "source": [
    "# bucle for "
   ]
  },
  {
   "cell_type": "code",
   "execution_count": 109,
   "metadata": {},
   "outputs": [
    {
     "name": "stdout",
     "output_type": "stream",
     "text": [
      "hola\n",
      "chau\n",
      "volvi\n"
     ]
    }
   ],
   "source": [
    "\n",
    "def crear_grilla(lista1):\n",
    "    for x in range(len(lista)):\n",
    "        print(lista1[x]) \n",
    "\n",
    "\n",
    "crear_grilla(lista)"
   ]
  }
 ],
 "metadata": {
  "interpreter": {
   "hash": "916dbcbb3f70747c44a77c7bcd40155683ae19c65e1c03b4aa3499c5328201f1"
  },
  "kernelspec": {
   "display_name": "Python 3.8.10 64-bit",
   "language": "python",
   "name": "python3"
  },
  "language_info": {
   "codemirror_mode": {
    "name": "ipython",
    "version": 3
   },
   "file_extension": ".py",
   "mimetype": "text/x-python",
   "name": "python",
   "nbconvert_exporter": "python",
   "pygments_lexer": "ipython3",
   "version": "3.8.10"
  },
  "orig_nbformat": 4
 },
 "nbformat": 4,
 "nbformat_minor": 2
}
