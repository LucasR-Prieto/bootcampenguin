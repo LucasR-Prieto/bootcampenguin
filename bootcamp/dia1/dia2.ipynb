{
 "cells": [
  {
   "cell_type": "markdown",
   "metadata": {},
   "source": []
  },
  {
   "cell_type": "markdown",
   "metadata": {},
   "source": [
    "# condicionales "
   ]
  },
  {
   "cell_type": "code",
   "execution_count": 2,
   "metadata": {},
   "outputs": [
    {
     "name": "stdout",
     "output_type": "stream",
     "text": [
      "activo laboral \n"
     ]
    }
   ],
   "source": [
    "edadlaborar = 65\n",
    "\n",
    "if edadlaborar <18:\n",
    "    print(\"menor de edad \")\n",
    "elif edadlaborar >65:\n",
    "    print(\"jubilada\")\n",
    "else :\n",
    "    print (\"activo laboral \")"
   ]
  },
  {
   "cell_type": "markdown",
   "metadata": {},
   "source": [
    "# dos condiciones a la vez"
   ]
  },
  {
   "cell_type": "code",
   "execution_count": null,
   "metadata": {},
   "outputs": [],
   "source": [
    "edadlaborar = 70 \n",
    "trabaja = False # booleano\n",
    "\n",
    "if edadlaborar <18:\n",
    "    print(\"estudiante menir de edad \")\n",
    "elif edadlaborar < 65 and trabaja == True\n",
    "    print (\"activo laboral \")\n",
    "elif edadlaborar < 65 and trabaja == False\n",
    "    print(\"es un estudiante \")\n",
    "else:\n",
    "    print(\"jubilado\")\n"
   ]
  },
  {
   "cell_type": "code",
   "execution_count": 20,
   "metadata": {},
   "outputs": [
    {
     "name": "stdout",
     "output_type": "stream",
     "text": [
      "namando mbae  50\n"
     ]
    }
   ],
   "source": [
    "# challenge 1 \n",
    "def calculartemperatura():\n",
    "    temperatura= int(input(\"cual es la temperatura actual \"))\n",
    "    if temperatura >=-10 and temperatura <=18 :\n",
    "        print(\"fresqueteeeeee\" , temperatura)\n",
    "    elif temperatura >=19 and temperatura <=30 :\n",
    "        print(\"caloriiii\" , temperatura)\n",
    "    elif temperatura >=31 and temperatura <=45:\n",
    "        print(\"hakuuuuuuuuuu\" , temperatura)\n",
    "    else:\n",
    "        print(\"namando mbae \" ,temperatura)\n",
    "\n",
    "calculartemperatura()\n"
   ]
  },
  {
   "cell_type": "markdown",
   "metadata": {},
   "source": [
    "# bucles condicionales while "
   ]
  },
  {
   "cell_type": "code",
   "execution_count": 27,
   "metadata": {},
   "outputs": [
    {
     "ename": "ValueError",
     "evalue": "invalid literal for int() with base 10: 'asd'",
     "output_type": "error",
     "traceback": [
      "\u001b[0;31m---------------------------------------------------------------------------\u001b[0m",
      "\u001b[0;31mValueError\u001b[0m                                Traceback (most recent call last)",
      "\u001b[1;32m/home/labdoo/bootcamp/dia1/dia2.ipynb Cell 8'\u001b[0m in \u001b[0;36m<cell line: 2>\u001b[0;34m()\u001b[0m\n\u001b[1;32m      <a href='vscode-notebook-cell:/home/labdoo/bootcamp/dia1/dia2.ipynb#ch0000008?line=0'>1</a>\u001b[0m numero \u001b[39m=\u001b[39m\u001b[39mNone\u001b[39;00m \n\u001b[1;32m      <a href='vscode-notebook-cell:/home/labdoo/bootcamp/dia1/dia2.ipynb#ch0000008?line=1'>2</a>\u001b[0m \u001b[39mwhile\u001b[39;00m numero \u001b[39m!=\u001b[39m\u001b[39m0\u001b[39m:\n\u001b[0;32m----> <a href='vscode-notebook-cell:/home/labdoo/bootcamp/dia1/dia2.ipynb#ch0000008?line=2'>3</a>\u001b[0m     numero \u001b[39m=\u001b[39m \u001b[39mint\u001b[39;49m(\u001b[39minput\u001b[39;49m(\u001b[39m\"\u001b[39;49m\u001b[39mintroduce un numero \u001b[39;49m\u001b[39m\"\u001b[39;49m))\n\u001b[1;32m      <a href='vscode-notebook-cell:/home/labdoo/bootcamp/dia1/dia2.ipynb#ch0000008?line=3'>4</a>\u001b[0m     \u001b[39mprint\u001b[39m (numero)\n",
      "\u001b[0;31mValueError\u001b[0m: invalid literal for int() with base 10: 'asd'"
     ]
    }
   ],
   "source": [
    "numero =None \n",
    "while numero !=0:\n",
    "    numero = int(input(\"introduce un numero \"))\n",
    "    print (numero)\n"
   ]
  },
  {
   "cell_type": "code",
   "execution_count": 1,
   "metadata": {},
   "outputs": [
    {
     "name": "stdout",
     "output_type": "stream",
     "text": [
      "salir\n"
     ]
    }
   ],
   "source": [
    "while True:\n",
    "    palabra = input(\"introducir una palabra \")\n",
    "    if palabra == \"salir\":\n",
    "        break\n",
    "print(palabra)"
   ]
  },
  {
   "cell_type": "markdown",
   "metadata": {},
   "source": [
    "# challeng2"
   ]
  },
  {
   "cell_type": "code",
   "execution_count": 15,
   "metadata": {},
   "outputs": [],
   "source": [
    "\n",
    "\n",
    "while contrasena != \"holalucas\" :\n",
    "    \n",
    "    contrasena = input(\"introduce tu contrasena\")\n",
    "\n",
    "    if  contrasena == \"holalucas\":\n",
    "        print(\"contrasena correcta\")\n",
    "        break\n",
    "        \n",
    "    print(\"contrasena  incorrecra\" )\n",
    "    \n",
    "\n"
   ]
  },
  {
   "cell_type": "markdown",
   "metadata": {},
   "source": [
    "# bucles iterativos "
   ]
  },
  {
   "cell_type": "markdown",
   "metadata": {},
   "source": [
    "# lista"
   ]
  },
  {
   "cell_type": "code",
   "execution_count": 20,
   "metadata": {},
   "outputs": [
    {
     "name": "stdout",
     "output_type": "stream",
     "text": [
      "naranja\n",
      "4\n",
      "['naranja', 'peras', 'kiwis', 'sandias', 'ciruelas']\n",
      "['naranja', 'durayno', 'peras', 'kiwis', 'ciruelas']\n",
      "['naranja', 'peras', 'kiwis', 'ciruelas']\n",
      "naranja\n"
     ]
    }
   ],
   "source": [
    "lista_de_frutas =[\"naranja\", \"peras\",\"kiwis\",\"sandias\"]\n",
    "\n",
    "# diferentes tipos de datos \n",
    "lista_boolena =[True, False, False , True]\n",
    "lista_de_numeros = [1.33, 2,2,3,4,]\n",
    "lista_varias = [\"peras\",10,False]\n",
    "\n",
    "# acceder a elementos de listas\n",
    "print(lista_de_frutas[0])\n",
    "\n",
    "#contar elementos\n",
    "print(len(lista_de_frutas))\n",
    "\n",
    "# agregar elementos en listas\n",
    "lista_de_frutas.append(\"ciruelas\")\n",
    "print(lista_de_frutas)\n",
    "\n",
    "# agregar elementos  eligiendo posicion\n",
    "lista_de_frutas.insert(1,\"durayno\")\n",
    "\n",
    "# eliminar elemntos por valor\n",
    "\n",
    "lista_de_frutas.remove(\"sandias\")\n",
    "print(lista_de_frutas)\n",
    "\n",
    "# eliminar por posicion\n",
    "\n",
    "lista_de_frutas.pop(1)\n",
    "print(lista_de_frutas)\n",
    "# print por elemtno\n",
    "print(lista_de_frutas[0])"
   ]
  },
  {
   "cell_type": "code",
   "execution_count": 34,
   "metadata": {},
   "outputs": [
    {
     "name": "stdout",
     "output_type": "stream",
     "text": [
      "integrante 1 lucas\n",
      "integrante 2 alex\n",
      "integrante 3 carlos\n",
      "integrante 4 luis\n"
     ]
    }
   ],
   "source": [
    "lista_integrantes =[\"lucas\", \"alex\",\"carlos\",\"luis\" ]\n",
    "print(\"integrante 1 \"+(lista_integrantes[0]))\n",
    "print(\"integrante 2 \"+(lista_integrantes[1]))\n",
    "print(\"integrante 3 \"+(lista_integrantes[2]))\n",
    "print(\"integrante 4 \"+(lista_integrantes[3]))\n"
   ]
  },
  {
   "cell_type": "markdown",
   "metadata": {},
   "source": [
    "# volvemos a for "
   ]
  },
  {
   "cell_type": "code",
   "execution_count": 35,
   "metadata": {},
   "outputs": [
    {
     "name": "stdout",
     "output_type": "stream",
     "text": [
      "h\n",
      "o\n",
      "l\n",
      "a\n"
     ]
    }
   ],
   "source": [
    "palara = input(\"introduce una palabra \")\n",
    "\n",
    "for letra in palara : \n",
    "    print(letra)"
   ]
  },
  {
   "cell_type": "code",
   "execution_count": 36,
   "metadata": {},
   "outputs": [
    {
     "name": "stdout",
     "output_type": "stream",
     "text": [
      "- pan\n",
      "- mantequilla\n",
      "- arandanio\n"
     ]
    }
   ],
   "source": [
    "lista_de_compras =[\"pan\",\"mantequilla\", \"arandanio\"]\n",
    "for cosas in lista_de_compras:\n",
    "    print(\"-\", cosas)\n",
    "\n",
    "\n"
   ]
  },
  {
   "cell_type": "code",
   "execution_count": 38,
   "metadata": {},
   "outputs": [
    {
     "name": "stdout",
     "output_type": "stream",
     "text": [
      "hola\n",
      "hola\n",
      "hola\n",
      "hola\n",
      "hola\n",
      "hola\n",
      "hola\n"
     ]
    }
   ],
   "source": [
    "for frase in range (7):\n",
    "    print(\"hola\")"
   ]
  },
  {
   "cell_type": "code",
   "execution_count": null,
   "metadata": {},
   "outputs": [],
   "source": []
  },
  {
   "cell_type": "code",
   "execution_count": 66,
   "metadata": {},
   "outputs": [
    {
     "name": "stdout",
     "output_type": "stream",
     "text": [
      "la letra aparece  0 en la frase\n"
     ]
    }
   ],
   "source": [
    "frase = input(\"ingrese frase\")\n",
    "letra = input(\"ingrese letra a buscar \")\n",
    "\n",
    "contador_de_letra= 0 \n",
    "for letra_buscada in frase:\n",
    "    if letra == letra_buscada:\n",
    "        contador_de_letra = contador_de_letra +1\n",
    "    \n",
    "print(\"la letra aparece \" , contador_de_letra, \"en la frase\")\n",
    "\n",
    "    \n",
    "    "
   ]
  },
  {
   "cell_type": "markdown",
   "metadata": {},
   "source": [
    "proyecto: wordle\n"
   ]
  },
  {
   "cell_type": "code",
   "execution_count": null,
   "metadata": {},
   "outputs": [],
   "source": [
    "# wordle \n",
    "\n"
   ]
  }
 ],
 "metadata": {
  "interpreter": {
   "hash": "916dbcbb3f70747c44a77c7bcd40155683ae19c65e1c03b4aa3499c5328201f1"
  },
  "kernelspec": {
   "display_name": "Python 3.8.10 64-bit",
   "language": "python",
   "name": "python3"
  },
  "language_info": {
   "codemirror_mode": {
    "name": "ipython",
    "version": 3
   },
   "file_extension": ".py",
   "mimetype": "text/x-python",
   "name": "python",
   "nbconvert_exporter": "python",
   "pygments_lexer": "ipython3",
   "version": "3.8.10"
  },
  "orig_nbformat": 4
 },
 "nbformat": 4,
 "nbformat_minor": 2
}
