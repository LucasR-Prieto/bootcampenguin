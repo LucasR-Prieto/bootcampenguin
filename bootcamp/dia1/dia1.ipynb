{
 "cells": [
  {
   "cell_type": "markdown",
   "metadata": {},
   "source": [
    "# primer encuentro con python "
   ]
  },
  {
   "cell_type": "code",
   "execution_count": 1,
   "metadata": {},
   "outputs": [
    {
     "name": "stdout",
     "output_type": "stream",
     "text": [
      "hola mundo\n"
     ]
    }
   ],
   "source": [
    "print(\"hola mundo\")"
   ]
  },
  {
   "cell_type": "markdown",
   "metadata": {},
   "source": [
    "# variables "
   ]
  },
  {
   "cell_type": "code",
   "execution_count": 3,
   "metadata": {},
   "outputs": [
    {
     "name": "stdout",
     "output_type": "stream",
     "text": [
      "10\n"
     ]
    }
   ],
   "source": [
    "num1 = 10 \n",
    "print(num1)\n"
   ]
  },
  {
   "cell_type": "markdown",
   "metadata": {},
   "source": [
    "# ejemplo con hola mundo "
   ]
  },
  {
   "cell_type": "code",
   "execution_count": 4,
   "metadata": {},
   "outputs": [
    {
     "name": "stdout",
     "output_type": "stream",
     "text": [
      "hola mundo \n"
     ]
    }
   ],
   "source": [
    "saludo = \"hola mundo \"\n",
    "print (saludo)\n"
   ]
  },
  {
   "cell_type": "markdown",
   "metadata": {},
   "source": [
    "# tipo de datos "
   ]
  },
  {
   "cell_type": "code",
   "execution_count": 5,
   "metadata": {},
   "outputs": [
    {
     "name": "stdout",
     "output_type": "stream",
     "text": [
      "maitei\n",
      "100\n",
      "3.14\n"
     ]
    }
   ],
   "source": [
    "saludo = \"maitei\" # texto = stringa = str\n",
    "\n",
    "cantidad = 100 # numero entero  = integer = int\n",
    "\n",
    "pi = 3.14 # numero decimal = floatign number = float \n",
    "\n",
    "print (saludo)\n",
    "print(cantidad)\n",
    "print (pi)"
   ]
  },
  {
   "cell_type": "markdown",
   "metadata": {},
   "source": [
    "# operaciones aritmeticas "
   ]
  },
  {
   "cell_type": "code",
   "execution_count": null,
   "metadata": {},
   "outputs": [],
   "source": [
    "# suma \n",
    "print (5+2+6)\n",
    "\n",
    "# resta \n",
    "print(5-2)\n",
    "\n",
    "#multiplicacion \n",
    "\n",
    "print(23*1)\n",
    "\n",
    "#division\n",
    "print(12/2)\n",
    " "
   ]
  },
  {
   "cell_type": "code",
   "execution_count": 8,
   "metadata": {},
   "outputs": [
    {
     "name": "stdout",
     "output_type": "stream",
     "text": [
      "23\n",
      "17\n"
     ]
    }
   ],
   "source": [
    "#1 \n",
    "cantidad_manzanas = 4\n",
    "cantidad_naranjas = 19\n",
    "catidad_de_frutas = cantidad_manzanas + cantidad_naranjas\n",
    "print(catidad_de_frutas)\n",
    "\n",
    "#2\n",
    "frutas_comidas = 6\n",
    "frutas_restantes = catidad_de_frutas - frutas_comidas\n",
    "print(frutas_restantes)\n"
   ]
  },
  {
   "cell_type": "markdown",
   "metadata": {},
   "source": [
    "# jugando con texto "
   ]
  },
  {
   "cell_type": "code",
   "execution_count": null,
   "metadata": {},
   "outputs": [],
   "source": [
    "nombre =\"lucas \"\n",
    "apellido = \"prieto \"\n",
    "print(nombre)\n",
    "print(apellido)\n",
    "\n",
    "# concatenar \n",
    "print(nombre + apellido)\n",
    "# dos variables \n",
    "print(nombre , apellido)\n"
   ]
  },
  {
   "cell_type": "code",
   "execution_count": 19,
   "metadata": {},
   "outputs": [
    {
     "name": "stdout",
     "output_type": "stream",
     "text": [
      "hola mi nombre es jose martinez mucho gusto\n"
     ]
    }
   ],
   "source": [
    "#challenge 2\n",
    "nombre =\"jose\"\n",
    "apellido =\"martinez\"\n",
    "print(\"hola mi nombre es \"+ nombre+\" \"+apellido+\" \"+\"mucho gusto\")\n"
   ]
  },
  {
   "cell_type": "markdown",
   "metadata": {},
   "source": [
    "# obteniendo datos del usuario "
   ]
  },
  {
   "cell_type": "code",
   "execution_count": 22,
   "metadata": {},
   "outputs": [
    {
     "name": "stdout",
     "output_type": "stream",
     "text": [
      "a\n",
      "w\n",
      "aa\n"
     ]
    }
   ],
   "source": [
    "numero1 = input(\"escriba un numero por favor \")\n",
    "print (numero1)\n",
    "numero2 = input(\"escriba otro numero \")\n",
    "print(numero2)\n",
    "\n",
    "#suma de datos \n",
    "suma_de_numero= numero1 + numero1\n",
    "print(suma_de_numero)\n",
    "#identificar tipo de dato \n",
    "print(type(numero1))\n",
    "print(type(numero2))\n",
    "\n",
    "#primer ingreso \n",
    "numero1 =input(\"esribir numero por favor \")\n",
    "print(numero1)\n",
    "#segundo numero \n",
    "numero1 =input(\"esribir otro  numero por favor \")\n",
    "print(numero1)\n",
    "#convertir \n",
    "numero1= int(numero1)\n",
    "numero2 =int(numero2)\n",
    "\n",
    "print(numero1+numero2)"
   ]
  },
  {
   "cell_type": "code",
   "execution_count": 27,
   "metadata": {},
   "outputs": [
    {
     "name": "stdout",
     "output_type": "stream",
     "text": [
      "2\n",
      "6\n",
      "8\n"
     ]
    }
   ],
   "source": [
    "#primer ingreso \n",
    "numero1 =input(\"esribir numero por favor \")\n",
    "print(numero1)\n",
    "#segundo numero \n",
    "numero2 =input(\"esribir otro  numero por favor \")\n",
    "print(numero2)\n",
    "#convertir \n",
    "numero1=int(numero1)\n",
    "numero2=int(numero2)\n",
    "\n",
    "print(numero1+numero2)"
   ]
  },
  {
   "cell_type": "markdown",
   "metadata": {},
   "source": [
    "# funciones "
   ]
  },
  {
   "cell_type": "code",
   "execution_count": 28,
   "metadata": {},
   "outputs": [
    {
     "name": "stdout",
     "output_type": "stream",
     "text": [
      "buenas tardes , penguis \n"
     ]
    }
   ],
   "source": [
    "# funcion con texto \n",
    "\n",
    "def mi_funcion():\n",
    "    print(\"buenas tardes , penguis \")\n",
    "\n",
    "mi_funcion()\n"
   ]
  },
  {
   "cell_type": "markdown",
   "metadata": {},
   "source": [
    "# parametros y argumentos \n"
   ]
  },
  {
   "cell_type": "code",
   "execution_count": 29,
   "metadata": {},
   "outputs": [
    {
     "name": "stdout",
     "output_type": "stream",
     "text": [
      "Hola mi nombre es lucas!\n"
     ]
    }
   ],
   "source": [
    "def miprint(nombre):\n",
    "    print(\"Hola mi nombre es \" + nombre +\"!\")\n",
    "\n",
    "miprint(\"lucas\")"
   ]
  },
  {
   "cell_type": "code",
   "execution_count": 37,
   "metadata": {},
   "outputs": [
    {
     "name": "stdout",
     "output_type": "stream",
     "text": [
      "hola lucassoy enmay soy tu mentor \n"
     ]
    }
   ],
   "source": [
    "def mi_print_de_bienvenida(nombre_alumno , nombre_coach):\n",
    "    print(\"hola \"+ nombre_alumno + \"soy \"+ nombre_coach +\"y soy tu mentor \")\n",
    "mi_print_de_bienvenida(\"lucas\", \"enma\")\n"
   ]
  },
  {
   "cell_type": "code",
   "execution_count": 53,
   "metadata": {},
   "outputs": [
    {
     "name": "stdout",
     "output_type": "stream",
     "text": [
      "tu primer numero es  2 y tu segundo numero es  5 y la suma de los dos es  7\n"
     ]
    }
   ],
   "source": [
    "def mi_funcion2(num1,num2):\n",
    "    suma=num1+num2\n",
    "    int(suma)\n",
    "    print(\"tu primer numero es \" ,num1,\"y tu segundo numero es \",num2,\"y la suma de los dos es \", suma )\n",
    "mi_funcion2(2,5)\n"
   ]
  },
  {
   "cell_type": "markdown",
   "metadata": {},
   "source": [
    "# alcance local"
   ]
  },
  {
   "cell_type": "code",
   "execution_count": 55,
   "metadata": {},
   "outputs": [
    {
     "name": "stdout",
     "output_type": "stream",
     "text": [
      "2000\n"
     ]
    }
   ],
   "source": [
    "def imprimir_precio():\n",
    "    valor = 2000\n",
    "    print (valor)\n",
    "\n",
    "imprimir_precio()"
   ]
  },
  {
   "cell_type": "markdown",
   "metadata": {},
   "source": [
    "# ALCANCE GLOBAL"
   ]
  },
  {
   "cell_type": "code",
   "execution_count": 56,
   "metadata": {},
   "outputs": [
    {
     "name": "stdout",
     "output_type": "stream",
     "text": [
      "1000\n"
     ]
    }
   ],
   "source": [
    "precio_global =1000\n",
    "def imprimir_precio2():\n",
    "    print(precio_global)\n",
    "\n",
    "imprimir_precio2()\n"
   ]
  },
  {
   "cell_type": "markdown",
   "metadata": {},
   "source": [
    "# challeng3"
   ]
  },
  {
   "cell_type": "code",
   "execution_count": 74,
   "metadata": {},
   "outputs": [
    {
     "name": "stdout",
     "output_type": "stream",
     "text": [
      "el iva es 1100\n"
     ]
    }
   ],
   "source": [
    "iva = 0.11\n",
    "def calcular_iva(valor):\n",
    "    calculo=valor*iva\n",
    "    print (\"el iva es \"+ str(round(calculo)))\n",
    "\n",
    "calcular_iva(10000)\n",
    "\n",
    "\n",
    "\n"
   ]
  },
  {
   "cell_type": "markdown",
   "metadata": {},
   "source": [
    "# condicionales "
   ]
  },
  {
   "cell_type": "code",
   "execution_count": 75,
   "metadata": {},
   "outputs": [
    {
     "name": "stdout",
     "output_type": "stream",
     "text": [
      "activo laboral \n"
     ]
    }
   ],
   "source": [
    "edadlaborar = 30\n",
    "\n",
    "if edadlaborar <18:\n",
    "    print(\"menor de edad \")\n",
    "elif edadlaborar >65:\n",
    "    print(\"jubilada\")\n",
    "else :\n",
    "    print (\"activo laboral \")"
   ]
  }
 ],
 "metadata": {
  "interpreter": {
   "hash": "916dbcbb3f70747c44a77c7bcd40155683ae19c65e1c03b4aa3499c5328201f1"
  },
  "kernelspec": {
   "display_name": "Python 3.8.10 64-bit",
   "language": "python",
   "name": "python3"
  },
  "language_info": {
   "codemirror_mode": {
    "name": "ipython",
    "version": 3
   },
   "file_extension": ".py",
   "mimetype": "text/x-python",
   "name": "python",
   "nbconvert_exporter": "python",
   "pygments_lexer": "ipython3",
   "version": "3.8.10"
  },
  "orig_nbformat": 4
 },
 "nbformat": 4,
 "nbformat_minor": 2
}
